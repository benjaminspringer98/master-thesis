{
 "cells": [
  {
   "cell_type": "code",
   "execution_count": 6,
   "id": "eb505960-bc0a-48cd-ac2d-d42e0e76dc46",
   "metadata": {},
   "outputs": [
    {
     "name": "stdout",
     "output_type": "stream",
     "text": [
      "Files extracted to /home/jovyan/Masterarbeit/Data/Pretest\n"
     ]
    }
   ],
   "source": [
    "import zipfile\n",
    "import os\n",
    "\n",
    "def unzip_file(zip_file_path, extract_to_folder):\n",
    "    \"\"\"\n",
    "    Unzips a .zip file to a specified folder.\n",
    "\n",
    "    :param zip_file_path: Path to the .zip file\n",
    "    :param extract_to_folder: Path to the folder where files will be extracted\n",
    "    \"\"\"\n",
    "    # Check if the zip file exists\n",
    "    if not os.path.isfile(zip_file_path):\n",
    "        print(f\"Error: The file {zip_file_path} does not exist.\")\n",
    "        return\n",
    "\n",
    "    # Check if the extract folder exists, if not create it\n",
    "    if not os.path.isdir(extract_to_folder):\n",
    "        os.makedirs(extract_to_folder)\n",
    "\n",
    "    # Unzip the file\n",
    "    with zipfile.ZipFile(zip_file_path, 'r') as zip_ref:\n",
    "        zip_ref.extractall(extract_to_folder)\n",
    "        print(f\"Files extracted to {extract_to_folder}\")\n",
    "\n",
    "# Example usage\n",
    "data_path = os.path.join(os.getcwd(), \"Data\", \"Pretest\", \"Pretest.zip\")\n",
    "extract_to_folder = os.path.join(os.getcwd(), \"Data\", \"Pretest\")\n",
    "unzip_file(data_path, extract_to_folder)\n"
   ]
  },
  {
   "cell_type": "code",
   "execution_count": 5,
   "id": "e7fb145f-29a3-4e21-b68e-748504d612e0",
   "metadata": {},
   "outputs": [
    {
     "name": "stdout",
     "output_type": "stream",
     "text": [
      "/home/jovyan/Masterarbeit\n"
     ]
    }
   ],
   "source": [
    "import os\n",
    "\n",
    "print(os.path.join(os.getcwd()))\n"
   ]
  },
  {
   "cell_type": "code",
   "execution_count": null,
   "id": "fc8aba22-f6f1-4b2d-8504-173ac4033c52",
   "metadata": {},
   "outputs": [],
   "source": []
  }
 ],
 "metadata": {
  "kernelspec": {
   "display_name": "Python 3 (ipykernel)",
   "language": "python",
   "name": "python3"
  },
  "language_info": {
   "codemirror_mode": {
    "name": "ipython",
    "version": 3
   },
   "file_extension": ".py",
   "mimetype": "text/x-python",
   "name": "python",
   "nbconvert_exporter": "python",
   "pygments_lexer": "ipython3",
   "version": "3.11.7"
  }
 },
 "nbformat": 4,
 "nbformat_minor": 5
}
